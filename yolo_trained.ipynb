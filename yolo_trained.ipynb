{
  "nbformat": 4,
  "nbformat_minor": 0,
  "metadata": {
    "colab": {
      "name": "yolo_trained.ipynb",
      "provenance": [],
      "collapsed_sections": []
    },
    "kernelspec": {
      "name": "python3",
      "display_name": "Python 3"
    },
    "accelerator": "GPU"
  },
  "cells": [
    {
      "cell_type": "markdown",
      "metadata": {
        "id": "LNwPI81x7S2T"
      },
      "source": [
        "Mount google drive first for a storage and GPU"
      ]
    },
    {
      "cell_type": "code",
      "metadata": {
        "id": "TZSOjg7j7Nvf"
      },
      "source": [
        "from google.colab import drive\n",
        "drive.mount('/content/gdrive')"
      ],
      "execution_count": null,
      "outputs": []
    },
    {
      "cell_type": "markdown",
      "metadata": {
        "id": "Lz6piKwq7coK"
      },
      "source": [
        "Copy zipped model from gdrive, unpack it and install dependencies"
      ]
    },
    {
      "cell_type": "code",
      "metadata": {
        "id": "tuR1Pvud749q"
      },
      "source": [
        "!cp gdrive/MyDrive/dataset/Lema/models/yolo5vL.zip .\n",
        "!unzip yolo5vL.zip\n",
        "!rm yolo5vL.zip\n",
        "%cd yolov5/\n",
        "!pip install -r requirements.txt"
      ],
      "execution_count": null,
      "outputs": []
    },
    {
      "cell_type": "markdown",
      "metadata": {
        "id": "ibMIBQma-mti"
      },
      "source": [
        "Now upload video with google colab uploader or just copy it from google drive straight into yolov5 folder"
      ]
    },
    {
      "cell_type": "code",
      "metadata": {
        "id": "ROWaifpe_KJr"
      },
      "source": [
        "from google.colab import files\n",
        "uploaded = files.upload()"
      ],
      "execution_count": null,
      "outputs": []
    },
    {
      "cell_type": "code",
      "metadata": {
        "id": "gEAlkzs8_Us6"
      },
      "source": [
        "#add rest of path to video and uncomment next line\n",
        "!cp ../gdrive/Shareddrives/\"Visual Bicycle Counters\"/xxxxxxxxxxx.mp4 ."
      ],
      "execution_count": null,
      "outputs": []
    },
    {
      "cell_type": "markdown",
      "metadata": {
        "id": "WQO65bqL_3so"
      },
      "source": [
        "Run detection. Result of inference will be saved in runs->detect->expX directory. If you want only result, without video with detections, simply comment line 54 of detect.py file. Either way, results.csv will contain number of detections per video."
      ]
    },
    {
      "cell_type": "code",
      "metadata": {
        "id": "xJZs1_oNBGty"
      },
      "source": [
        "#img-size - bigger number in your AxB video resolution, source - source video, weights - path to weights of trained model, classes - filter classes (15 for cyclists)\n",
        "!python detect.py --img-size 1280 --source xxxxxxxxxxx.mp4 --weights ./runs/train/exp4/weights/best.pt --classes 15 --conf-thres 0.8"
      ],
      "execution_count": null,
      "outputs": []
    }
  ]
}
